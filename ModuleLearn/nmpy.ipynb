{
 "cells": [
  {
   "cell_type": "markdown",
   "metadata": {},
   "source": [
    "#### Numpy学习\n",
    "<font size = 4>[Numpy 中文](https://www.numpy.org.cn/)</font>"
   ]
  },
  {
   "cell_type": "markdown",
   "metadata": {},
   "source": [
    "##### 基础知识"
   ]
  },
  {
   "cell_type": "markdown",
   "metadata": {},
   "source": [
    "<font size = 4>NumPy的数组类被调用 _ndarray_。它也被别名所知 _array_。\n",
    "* _ndarray.ndim_ - 数组的轴（维度）的个数   \n",
    "    * 在Python世界中，维度的数量被称为rank。\n",
    "* _ndarray.shape_ - 数组的维度  \n",
    "    * 这是一个整数的元组，表示每个维度中数组的大小。对于有 n 行和 m 列的矩阵，shape 将是 (n,m)。因此，shape 元组的长度就是rank或维度的个数 ndim。\n",
    "* _ndarray.size_ - 数组元素的总数  \n",
    "    * 这等于 shape 的元素的乘积。\n",
    "* _ndarray.dtype_ - 一个描述数组中元素类型的对象  \n",
    "    * 可以使用标准的Python类型创建或指定dtype。另外NumPy提供它自己的类型。例如numpy.int32、numpy.int16和numpy.float64。\n",
    "* _ndarray.itemsize_ - 数组中每个元素的字节大小  \n",
    "    * 例如，元素为 float64 类型的数组的 itemsize 为8（=64/8），而 complex32 类型的数组的 itemsize 为4（=32/8）。它等于 ndarray.dtype.itemsize 。\n",
    "* _ndarray.data_ - 该缓冲区包含数组的实际元素  \n",
    "    * 通常，我们不需要使用此属性，因为我们将使用索引访问数组中的元素。</font>"
   ]
  },
  {
   "cell_type": "code",
   "execution_count": null,
   "metadata": {},
   "outputs": [],
   "source": [
    "import numpy as np\n",
    "a = np.arange(15).reshape(3, 5)\n",
    "print(\"1.\", a)\n",
    "print(\"2.\", a.shape)\n",
    "print(\"3.\", a.ndim)\n",
    "print(\"4.\", a.dtype.name)\n",
    "print(\"5.\", a.itemsize)\n",
    "print(\"6.\", a.size)\n",
    "print(type(a))\n",
    "b = np.array([6, 7, 8])\n",
    "print(b)\n",
    "print(type(b))"
   ]
  },
  {
   "cell_type": "markdown",
   "metadata": {},
   "source": [
    "##### 数组创建"
   ]
  },
  {
   "cell_type": "markdown",
   "metadata": {},
   "source": [
    "<font size = 4>1. _array_ 函数从常规Python列表或元组中创建数组</font>"
   ]
  },
  {
   "cell_type": "code",
   "execution_count": null,
   "metadata": {},
   "outputs": [],
   "source": [
    "a = np.array([1, 2, 3, 4])\n",
    "print(\"a\\n\", a)\n",
    "#a = np.array(1,2,3,4)    # WRONG,需传递列表\n",
    "# array还可以将序列的序列转换成二维数组，将序列的序列的序列转换成三维数组，等等。\n",
    "b = np.array([(1.5,2,3), (4,5,6)])\n",
    "print(\"b\\n\", b)\n",
    "# 创建时显式指定数组的类型\n",
    "c = np.array( [ [1,2], [3,4] ], dtype=complex ) # 复数\n",
    "print(\"c\\n\", c)"
   ]
  },
  {
   "cell_type": "markdown",
   "metadata": {},
   "source": [
    "2. <font size = 4>_zeros_ 函数创建一个由0组成的数组  \n",
    "_ones_ 函数创建一个完整的数组  \n",
    "_empty_ 函数创建一个数组，其初始内容是随机的，取决于内存的状态。默认情况下，创建的数组的dtype是 float64 类型的。</font>"
   ]
  },
  {
   "cell_type": "code",
   "execution_count": null,
   "metadata": {},
   "outputs": [],
   "source": [
    "print(np.zeros((3,4)))\n",
    "print(np.ones((2, 3, 4), dtype=np.int16))\n",
    "print(np.empty((2, 3)))\n",
    "# zeros_like\n",
    "x = np.arange(3)\n",
    "print(x)\n",
    "np.zeros_like(x)"
   ]
  },
  {
   "cell_type": "markdown",
   "metadata": {},
   "source": [
    "3. <font size = 4>_arange_ 函数  \n",
    "返回数组而非列表</font>"
   ]
  },
  {
   "cell_type": "code",
   "execution_count": null,
   "metadata": {},
   "outputs": [],
   "source": [
    "print(np.arange(10, 30, 5))\n",
    "print(np.arange(0, 2, 0.3))\n",
    "# 当arange与浮点参数一起使用时，由于有限的浮点精度，通常不可能预测所获得的元素的数量。\n",
    "# 出于这个原因，通常最好使用linspace函数来接收我们想要的元素数量的函数，而不是步长（step）：\n",
    "from numpy import pi\n",
    "print(np.linspace(0, 2, 9))     # 9 numbers from 0 to 2\n",
    "x = np.linspace(0, 2*pi, 100)\n",
    "f = np.sin(x)"
   ]
  },
  {
   "cell_type": "markdown",
   "metadata": {},
   "source": [
    "##### 打印数组"
   ]
  },
  {
   "cell_type": "markdown",
   "metadata": {},
   "source": [
    "<font size = 4>嵌套形式\n",
    "* 最后一个轴从左到右打印\n",
    "* 倒数第二个从上到下打印  \n",
    "* 其余部分也从上到下打印，每个切片用空行分隔</font>"
   ]
  },
  {
   "cell_type": "code",
   "execution_count": null,
   "metadata": {},
   "outputs": [],
   "source": [
    "a = np.arange(10)\n",
    "print(a)\n",
    "a = np.arange(20).reshape(4,5)\n",
    "print(a)\n",
    "a = np.arange(0, 60, 2).reshape(2, 3, 5)\n",
    "print(a)"
   ]
  },
  {
   "cell_type": "markdown",
   "metadata": {},
   "source": [
    "<font size = 4> _reshape_  \n",
    "数组太大而无法打印，NumPy会自动跳过数组的中心部分并仅打印角点：</font>"
   ]
  },
  {
   "cell_type": "code",
   "execution_count": null,
   "metadata": {},
   "outputs": [],
   "source": [
    "print(np.arange(100))\n",
    "print(np.arange(10000).reshape(100,100))"
   ]
  },
  {
   "cell_type": "markdown",
   "metadata": {},
   "source": [
    "<font size = 4>要禁用上述行为并强制NumPy打印整个数组，可以使用更改打印选项 _set_printoptions_ 。</font>"
   ]
  },
  {
   "cell_type": "code",
   "execution_count": null,
   "metadata": {},
   "outputs": [],
   "source": [
    "from numpy import sys\n",
    "np.set_printoptions(threshold=sys.maxsize)  # sys module should be imported\n",
    "print(np.arange(10000).reshape(100,100))"
   ]
  },
  {
   "cell_type": "markdown",
   "metadata": {},
   "source": [
    "##### 基本操作（元素）"
   ]
  },
  {
   "cell_type": "markdown",
   "metadata": {},
   "source": [
    "<font size = 4>1. 创建一个新数组并填充结果</font>"
   ]
  },
  {
   "cell_type": "code",
   "execution_count": null,
   "metadata": {},
   "outputs": [],
   "source": [
    "a = np.array( [20,30,40,50] )\n",
    "print(a)\n",
    "b = np.arange( 4 )\n",
    "print(b)\n",
    "c = a-b\n",
    "print(c)\n",
    "b**2\n",
    "print(b)\n",
    "a = 10*np.sin(a)\n",
    "print(a)\n",
    "a = a<35\n",
    "print(a)"
   ]
  },
  {
   "cell_type": "markdown",
   "metadata": {},
   "source": [
    "<font size = 4>2. 矩阵乘法</font>"
   ]
  },
  {
   "cell_type": "code",
   "execution_count": null,
   "metadata": {},
   "outputs": [],
   "source": [
    "A = np.array( [[1,1], [0,1]] )\n",
    "B = np.array( [[2,0], [3,4]] )\n",
    "print(A*B)\n",
    "print(A@B)\n",
    "print(A.dot(B))"
   ]
  },
  {
   "cell_type": "markdown",
   "metadata": {},
   "source": [
    "<font size = 4>3. _Axis_ 的理解"
   ]
  },
  {
   "cell_type": "code",
   "execution_count": null,
   "metadata": {},
   "outputs": [],
   "source": [
    "import numpy as np\n",
    "b = np.arange(12).reshape(3, 4)\n",
    "print(b.sum(axis = 0))\n",
    "print(b.min(axis = 1))\n",
    "print(b.cumsum(axis = 1), '\\n') #矩阵累加\n",
    "\n",
    "arr = np.array([[[1, 2],[3, 4]], [[5, 6],[7, 8]]])\n",
    "print(arr)\n",
    "print(\"0\\n\", arr.sum(axis=0))\n",
    "print(\"1\\n\", arr.sum(axis=1))\n",
    "print(\"-1\\n\", arr.sum(axis=-1))"
   ]
  },
  {
   "cell_type": "markdown",
   "metadata": {},
   "source": [
    "##### 通函数"
   ]
  },
  {
   "cell_type": "markdown",
   "metadata": {},
   "source": [
    "<font size = 4>_NumPy_ 提供熟悉的数学函数，例如 _sin_，_cos_ 和 _exp_。在 _NumPy_ 中，这些被称为“通函数”（_ufunc_）。按元素进行计算，产生数组。</font>"
   ]
  },
  {
   "cell_type": "code",
   "execution_count": null,
   "metadata": {},
   "outputs": [],
   "source": [
    "import numpy as np\n",
    "b = np.arange(0, 10, 2)\n",
    "print(b)\n",
    "print(np.exp(b))\n",
    "print(np.sqrt(b))\n",
    "c = np.array([2, 3, 4, 3, 2])\n",
    "print(np.add(b, c))"
   ]
  },
  {
   "cell_type": "markdown",
   "metadata": {},
   "source": [
    "##### 索引、切片和迭代"
   ]
  },
  {
   "cell_type": "markdown",
   "metadata": {},
   "source": [
    "<font size = 4>__一维__ 数组可以进行索引、切片和迭代操作的，就像 列表 和其他Python序列类型一样。</font>"
   ]
  },
  {
   "cell_type": "code",
   "execution_count": null,
   "metadata": {},
   "outputs": [],
   "source": [
    "import numpy as np\n",
    "a = np.arange(10)**3\n",
    "print(a[2])         #index 索引\n",
    "print(a[2: 5])      #slice\n",
    "a[: 6: 2] = -11111  #equivalent to a[0:6:2];from start(0) to position 6, exclusive, set every 2nd element to -11111\n",
    "print(a)        \n",
    "print(a[: : -1])    #reverse\n",
    "for i in a:\n",
    "    print(i ** (1/3.))"
   ]
  },
  {
   "cell_type": "markdown",
   "metadata": {},
   "source": [
    "<font size = 4>__多维__ 数组每个轴可以有一个索引，以逗号分隔的<font color = red>元组</font>给出</font>"
   ]
  },
  {
   "cell_type": "code",
   "execution_count": null,
   "metadata": {},
   "outputs": [],
   "source": [
    "def f(x, y):\n",
    "    return 10*x + y\n"
   ]
  }
 ],
 "metadata": {
  "kernelspec": {
   "display_name": "Python 3.9.1 64-bit",
   "language": "python",
   "name": "python3"
  },
  "language_info": {
   "codemirror_mode": {
    "name": "ipython",
    "version": 3
   },
   "file_extension": ".py",
   "mimetype": "text/x-python",
   "name": "python",
   "nbconvert_exporter": "python",
   "pygments_lexer": "ipython3",
   "version": "3.9.1"
  },
  "orig_nbformat": 4,
  "vscode": {
   "interpreter": {
    "hash": "44b3def1d3bc1b2a94d1d08e095161dcefc452d1c88a91dc797d05fcb518dc3d"
   }
  }
 },
 "nbformat": 4,
 "nbformat_minor": 2
}
